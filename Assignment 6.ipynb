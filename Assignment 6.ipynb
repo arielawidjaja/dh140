{
 "cells": [
  {
   "cell_type": "code",
   "execution_count": 1,
   "id": "19e33d0c-58d2-4f02-869c-165e0b768957",
   "metadata": {},
   "outputs": [],
   "source": [
    "import pandas as pd"
   ]
  },
  {
   "cell_type": "code",
   "execution_count": 2,
   "id": "57d1197f-9238-4570-8e75-afb961e234ac",
   "metadata": {},
   "outputs": [],
   "source": [
    "import nltk"
   ]
  },
  {
   "cell_type": "code",
   "execution_count": 3,
   "id": "b1064581-f860-4144-bef1-8e9f75bf7919",
   "metadata": {},
   "outputs": [],
   "source": [
    "import requests"
   ]
  },
  {
   "cell_type": "code",
   "execution_count": 4,
   "id": "5b7894c8-acaa-4190-8c30-96a92e6374f3",
   "metadata": {},
   "outputs": [],
   "source": [
    "from bs4 import BeautifulSoup"
   ]
  },
  {
   "cell_type": "code",
   "execution_count": 5,
   "id": "eb6625b2-7fb0-4510-9861-b8ff2a2572e4",
   "metadata": {},
   "outputs": [],
   "source": [
    "response = requests.get('https://www.gutenberg.org/cache/epub/1112/pg1112.txt')"
   ]
  },
  {
   "cell_type": "code",
   "execution_count": null,
   "id": "5e9462ff-af36-40cc-82cc-dc3a7e7ec4f1",
   "metadata": {},
   "outputs": [],
   "source": [
    "response"
   ]
  },
  {
   "cell_type": "code",
   "execution_count": null,
   "id": "3a931bb3-0900-47f9-9739-8cccec897512",
   "metadata": {
    "tags": []
   },
   "outputs": [],
   "source": [
    "response.text"
   ]
  },
  {
   "cell_type": "code",
   "execution_count": 6,
   "id": "b7cea8a7-7469-4b57-b0d3-9a1a9cba6c77",
   "metadata": {},
   "outputs": [],
   "source": [
    "wordlist = response.text"
   ]
  },
  {
   "cell_type": "code",
   "execution_count": null,
   "id": "81b1f24a-591b-4cdc-a881-8a2aaa851c69",
   "metadata": {},
   "outputs": [],
   "source": [
    "from nltk.tokenize import word_tokenize, sent_tokenize"
   ]
  },
  {
   "cell_type": "code",
   "execution_count": null,
   "id": "80084fbd-cda5-4666-93bd-f6301387df0a",
   "metadata": {
    "tags": []
   },
   "outputs": [],
   "source": [
    "sent = sent_tokenize(wordlist)"
   ]
  },
  {
   "cell_type": "code",
   "execution_count": null,
   "id": "134e3a91-bbe1-4778-b022-a261fa157543",
   "metadata": {},
   "outputs": [],
   "source": [
    "wordlist = []\n",
    "for s in sent:\n",
    "    for w in word_tokenize(s):\n",
    "        wordlist.append(w)"
   ]
  },
  {
   "cell_type": "raw",
   "id": "11c8dc2d-d541-4835-abc1-71a0e2651fc7",
   "metadata": {},
   "source": [
    "word_tokenize(wordlist)"
   ]
  },
  {
   "cell_type": "code",
   "execution_count": null,
   "id": "b8009ebe-7df1-4a39-ad0a-4046b8454870",
   "metadata": {
    "tags": []
   },
   "outputs": [],
   "source": [
    "#to see whats really in the list\n",
    "print(word_tokenize(wordlist))"
   ]
  },
  {
   "cell_type": "code",
   "execution_count": null,
   "id": "df82e502-dce2-427c-a596-95538be54e6a",
   "metadata": {},
   "outputs": [],
   "source": [
    "from nltk.corpus import stopwords\n",
    "from string import punctuation\n",
    "nltk.download('stopwords')"
   ]
  },
  {
   "cell_type": "code",
   "execution_count": null,
   "id": "68785dd0-94ed-4ab1-9351-0565c9419fe1",
   "metadata": {},
   "outputs": [],
   "source": [
    "myStopWords = list(punctuation) + stopwords.words('english')"
   ]
  },
  {
   "cell_type": "code",
   "execution_count": null,
   "id": "df2156e9-24e4-4199-9794-320ff8b0cfaf",
   "metadata": {
    "tags": []
   },
   "outputs": [],
   "source": [
    "print(myStopWords)"
   ]
  },
  {
   "cell_type": "code",
   "execution_count": null,
   "id": "d0815249-285e-49cc-8b46-20815e82f8aa",
   "metadata": {
    "tags": []
   },
   "outputs": [],
   "source": [
    "wordsNoStopComp = [w for w in wordlist if w not in myStopWords]\n",
    "print(wordsNoStopComp)"
   ]
  },
  {
   "cell_type": "code",
   "execution_count": null,
   "id": "42687943-a776-4497-8fca-c35e61b84404",
   "metadata": {},
   "outputs": [],
   "source": [
    "from nltk.probability import FreqDist"
   ]
  },
  {
   "cell_type": "code",
   "execution_count": null,
   "id": "3d26b444-2ce4-41dd-9310-14a2b7102a23",
   "metadata": {},
   "outputs": [],
   "source": [
    "freq = FreqDist(wordsNoStopComp)"
   ]
  },
  {
   "cell_type": "code",
   "execution_count": null,
   "id": "6effb322-020a-4536-81de-316c8e2c2748",
   "metadata": {},
   "outputs": [],
   "source": [
    "for i in sorted(freq, key=freq.get, reverse=True)[:20]:\n",
    "    print(i,freq[i])"
   ]
  },
  {
   "cell_type": "code",
   "execution_count": null,
   "id": "662945aa-963b-4b58-88fa-8427ea3cc017",
   "metadata": {},
   "outputs": [],
   "source": [
    "#I am not entirely familiar with Romeo and Juliet, (my school did not teach American literature) but I am pretty sure this list sums it up."
   ]
  },
  {
   "cell_type": "markdown",
   "id": "94705eac-7347-4bdb-9a10-583970db1b5e",
   "metadata": {},
   "source": [
    "Yelp time"
   ]
  },
  {
   "cell_type": "code",
   "execution_count": null,
   "id": "a2d3ab50-68ff-4f32-a712-4bafffa9ce0c",
   "metadata": {},
   "outputs": [],
   "source": [
    "from nltk.sentiment import vader\n",
    "nltk.download('vader_lexicon')"
   ]
  },
  {
   "cell_type": "code",
   "execution_count": null,
   "id": "bcfa8404-15a1-4919-9d13-9a573de48c68",
   "metadata": {},
   "outputs": [],
   "source": [
    "sia = vader.SentimentIntensityAnalyzer()"
   ]
  },
  {
   "cell_type": "code",
   "execution_count": null,
   "id": "4cbd1141-f834-4c8d-afae-93ffd70c016b",
   "metadata": {},
   "outputs": [],
   "source": [
    "review1 = '''\n",
    "5 Stars. Pro tip: Lots of parking available on the main street and side streets from this restaurant. There's indoor and outdoor seating so very covid friendly. It is a smaller space but it fits surprisingly a good number of people inside. They also have deals on great bottles of wine sometimes - call ahead! A friend told me this was the best pasta he's had.. and he's from New Jersey so you know that's a high compliment! We came on a random Wednesday night and were seated immediately. They serve fresh bread that I couldn't stop devouring. Pomodoro Trattoria itself is a cozy, intimate environment so perfect for a casual date or catching up with friends. We ordered: Gnocchi (must have - they have so many different options of gnocchi and all made fresh) Tortellini (wow! this is my favorite so far) Pollo Alla Parmigiana (so delicious) Prices are very reasonable. Pasta tastes amazingly fresh and cooked al dente. It's definitely become one of my favorite spots!\n",
    "'''\n",
    "sia.polarity_scores(review1)\n",
    "#I agree with the VADER scores"
   ]
  },
  {
   "cell_type": "code",
   "execution_count": null,
   "id": "1fb3d3a2-0421-4df4-8ee3-08e4f970eeba",
   "metadata": {},
   "outputs": [],
   "source": [
    "review2 = '''\n",
    "4 Stars. I pass by this place very often but never tried until recently, owing to the fact that they have somewhat short hours and limited seating. Glad I was finally able to try, as the food here was very delicious. The meal started out with warm bread, which was really nice and I ended up taking the leftovers home. I got the daily special which was a seafood linguini, and it came with a generous amount of squid, baby scallops, We shared a chicken parmesan and my partner ordered the gnocchi al funghi. The gnocchi was my favorite of the three -- the mushroom, tomato sauce, and fresh gnocchi just made for a perfect dish. It was way too much food for the two of us, so we ended up having leftovers that held up well even into the next day.\n",
    "'''\n",
    "sia.polarity_scores(review2)\n",
    "#The review is pretty neutral"
   ]
  },
  {
   "cell_type": "code",
   "execution_count": null,
   "id": "467ce74d-e603-4214-84e8-3019041daa0a",
   "metadata": {},
   "outputs": [],
   "source": [
    "review3 = '''\n",
    "5 Stars. I just happened to drive by this place and had the urge to eat some pasta. I parked my car about a street behind since there was no parking allowed near the restaurant. I ordered a rigatoni alla toscana with no cheese. As I was waiting for my food, they gave me some complimentary bread. The bread was very crunchy on the outside and soft on the inside. On a cold day, these breads were a perfect way to start off my dinner. The pasta was better than what I was expecting as well. I mixed the chicken in the pasta to get an even distribution of the tomato sauce. The chicken was well seasoned and juicy. Not a single piece of chicken was dry. The tomato sauce was not overbearing or strong, which I liked. The pasta itself was a bit more chewy than I was expecting but still tasty nonetheless. Overall, I was extremely satisfied with the pasta. Portion size was way more than what I had expected too. My bill came out to only be around $15 dollars which I thought was well worth my money. I definitely recommend checking this place out.\n",
    "'''\n",
    "sia.polarity_scores(review3)\n",
    "#Another rather neutral review with some positive statements"
   ]
  },
  {
   "cell_type": "code",
   "execution_count": null,
   "id": "9edf9b0b-1474-4629-98c9-a4bdf718be58",
   "metadata": {},
   "outputs": [],
   "source": [
    "review4 = '''\n",
    "5 Stars. Parking was so difficult to find. BUT the service and food made up for it! They had someone near the door, waiting for people to come in. There were many waiters walking around to help you. The place is not that big but it's very cozy. Portions are huge! I shared between myself and a friend. When going to an Italian restaurant, I received the good advice to only get fresh-made pasta dishes (because otherwise you could just buy uncooked pasta and make it at home). So, I chose the Gnocchi, which is made fresh daily. It had a fantastic texture- very soft. Sometimes I get tired of eating gnocchi when it's just like a ball of dough, but this was great!\n",
    "'''\n",
    "sia.polarity_scores(review4)\n",
    "#I agree with the VADER scores"
   ]
  },
  {
   "cell_type": "code",
   "execution_count": null,
   "id": "d9b813d7-ff6e-456b-840c-d7aeb919eaed",
   "metadata": {},
   "outputs": [],
   "source": [
    "review5 = '''\n",
    "4 Stars. This place is delicious! I really liked the pasta, the Farfalle as well as the gnocchi! Both were very well made and very flavorful. The pesto pizza was good, but definitely not the best pizza I've had. Similarly the chicken Parmesan was solid but nothing out of this world. The garlic bread was great, very garlicky for those garlic lovers. The tiramisu was also delicious a nice way to end the meal. I would say this is more of a place to get pasta for sure!! There is metered street parking all around and free street parking one street over. Just make sure to read the signs. The service is great, everyone is really friendly. Restaraunt has a very homey and family vibe.\n",
    "'''\n",
    "sia.polarity_scores(review5)\n",
    "#I think the review is more positive than the VADER scores say"
   ]
  },
  {
   "cell_type": "code",
   "execution_count": null,
   "id": "5558ccfc-25aa-483f-bd39-bfb9e30c09fd",
   "metadata": {},
   "outputs": [],
   "source": [
    "review6 = '''\n",
    "4 Stars. Farfalle Con Pollo Price: $14.25 Rating: For its price, quality, and quantity, this place was really good! The pasta comes with bow tie pasta, sautéed chicken, shallots, spinach, tomato sauce, and cream. It was very creamy and not that salty. I felt like the pasta could've been cooked just a bit more, but overall, it was pretty good! We also ordered their Risotto con pollo melanzane ($14.50) which comes with Arborio rice, grilled eggplant, tomato sauce, garlic, basil, and grilled chicken. The chicken was a bit dry, but very crispy outside. Lastly, we ordered one of the grilled appetizers ($11), which was seasoned really well with olive oil, garlic, and fresh herbs. Each table also comes with complementary ciabatta bread, and it was very toasty and fluffy! Great service!\n",
    "'''\n",
    "sia.polarity_scores(review6)\n",
    "#VADER score does not consider undercooked pasta as negative :/"
   ]
  },
  {
   "cell_type": "code",
   "execution_count": null,
   "id": "cb70ae72-033b-47a1-b68e-af5e04e9b00a",
   "metadata": {},
   "outputs": [],
   "source": [
    "review7 = '''\n",
    "4 Stars. The gnocchi was very fresh but lacked flavor . The Chardonnay was delicious ! The fresh bread was addicting !!! The salmon limon dish was perfectly cooked and yum ! The service was delicate and sweet , owner was really cool to talk to . As far as the ambience it isn't five stars - but the food and friendly service makes up for it ( speaking for the outside seating only ). Place gets pretty crowded . I would recommend to come before 6 on a weeknight for the best chance to grab a table straight away . Last , but certainly not least , the TIRAMISU !!! Must try !\n",
    "'''\n",
    "sia.polarity_scores(review7)\n",
    "#Gnocchi lacking flavor is negative, VADER"
   ]
  },
  {
   "cell_type": "code",
   "execution_count": null,
   "id": "33287042-cbd4-4d5c-b399-86dab62839be",
   "metadata": {},
   "outputs": [],
   "source": [
    "review8 = '''\n",
    "1 Star. Can someone explain what this spaghetti is doing in a rigatoni plate(look at the picture)? Big time meh Italian food. It's one of the most average Italian foods I have had in a while. I'm not sure why the high ratings, pretty deceiving!\n",
    "'''\n",
    "sia.polarity_scores(review8)\n",
    "#VADER cannot sense this but the person had a spaghetti in a rigatoni dish, which is not good. The question can be taken by a computer as a neutral question."
   ]
  },
  {
   "cell_type": "code",
   "execution_count": null,
   "id": "d6d6c648-b679-4bbe-a49b-d4ca8d5af0dc",
   "metadata": {},
   "outputs": [],
   "source": [
    "review9 = '''\n",
    "4 Stars. OK, so food is pretty good. I enjoyed the chopped salad - BUT, a couple things: It says iceberg AND romaine, but it sure seemed like all iceberg. It could definitely use a bit more dark greens. And why must you put whole olives in the salad? I hate that in general, but if it's a \"chopped\" salad, shouldn't you chop that too?! Lastly - needs more tomatoes & garbanzo beans. Imagine how good it could be!\n",
    "'''\n",
    "sia.polarity_scores(review9)\n",
    "#Overall neutral, commenter is complaining about the content of a salad, not totally negatively."
   ]
  },
  {
   "cell_type": "code",
   "execution_count": null,
   "id": "9d56a6a3-8bb3-45a4-900a-218b3f40e2f5",
   "metadata": {},
   "outputs": [],
   "source": [
    "review10 = '''\n",
    "5 Stars. DATE NIGHT APPROVED! Adorable seating outdoors w individual heat lamps providing a warm lighting and great ambiance for date night. Food was amazing. The gnocchi was the best I've had. Their bread is soooo worth the calories. Great friendly service at a charming family owned restaurant that's been around for almost 20 years. Had a great night there and we will be returning back! PS. To top it off 50% off wine bottles!!!\n",
    "'''\n",
    "sia.polarity_scores(review10)\n",
    "#Amazing"
   ]
  },
  {
   "cell_type": "code",
   "execution_count": null,
   "id": "80bb5488-3b9c-49f6-baea-d90a65db2694",
   "metadata": {},
   "outputs": [],
   "source": [
    "review11 = '''\n",
    "3 Stars. It's neighborhood. It's intimate. I don't get the 4.5 stars. On the three entrees we ordered, all were misses. The pesto pizza was bland and the crust unremarkable. (Hard to believe for pesto.) The bolognese was mediocre. And the chicken dish with mushroom cream sauce my daughter ordered was a good attempt, but also fell short. I love Chianti, but the house version matched the entrees in blandness. If I hadn't seen the waiter open the bottle, I would have sworn it was watered down. Decent bread, subpar olive oil. When I'm at an Italian restaurant and the best thing is the salad, it's not a great meal. It doesn't rate a 2, but a 3 is a little generous. It seemed popular with the pre-game UCLA crowd. Maybe nostalgia? Maybe there are better things in the menu and since the prices are reasonable, I might try it again. But I would not order anything we ordered again, sans the salad.\n",
    "'''\n",
    "sia.polarity_scores(review11)\n",
    "#Not sure how the place is neighborhood. The review is more negative than VADER deems. This person had a bad pasta time."
   ]
  },
  {
   "cell_type": "code",
   "execution_count": null,
   "id": "5c3bc54b-8a88-4f45-842f-97f20a2d0fa2",
   "metadata": {},
   "outputs": [],
   "source": [
    "review12 = '''\n",
    "4 Stars. I used to order lunch from here all the time and now that I live closer I order dinner. I always had leftovers or if I did finish it I was seriously stuffed. The portions definitely got smaller and prices increased. I still love this place because it's great food and the farfalle con pollo is by far my favorite. The homemade bread is to die for. But the to-go portion sizes are the size of a bowl now and for $17 ($19) with tip for to go, there are other places I can have 2 meals for that price. For reference I'm 5'3\" and 125lbs so my hands are small. I'll still probably eat here just not as often since it's getting a bit out of hand (no pun intended).\n",
    "'''\n",
    "sia.polarity_scores(review12)\n",
    "#I agree with VADER's scores"
   ]
  },
  {
   "cell_type": "code",
   "execution_count": null,
   "id": "2092d35e-ad83-4ea1-a888-d1ae56d78bff",
   "metadata": {},
   "outputs": [],
   "source": [
    "review13 = '''\n",
    "5 Stars. upon entry, we were immediately greeted by the ambiance of little italy. we were directed to a quaint table in the corner nearest the counter, with a view overlooking every intricate element of decor pomodoro had to offer- most notably the exquisite chandelier and painting of a man resting by a table. our friendly server provided us two menus and a basket of sourdough goodies to accompany our contemplation of what we'd be enjoying later that evening. after catering to our food allergies, we decided to order a linguine al salmone (pasta) and a pizza siciliana. before long, our dinner was served. the ratio of portion to price on its own was mouthwatering. from the first bite on, we fell in love. the pasta was perfectly al dente, while the pizza dough had a comforting chewiness that didn't compromise the structural integrity of the pie. our server was constantly attentive to detail, even tying our to go bag as we headed out. this was ABOVE AND BEYOND in any customer service setting. WELL DONE! you can count on our return\n",
    "'''\n",
    "sia.polarity_scores(review13)\n",
    "#I agree with VADER's scores"
   ]
  },
  {
   "cell_type": "code",
   "execution_count": null,
   "id": "f2baf026-ff31-4cde-bcf4-a149c5cff466",
   "metadata": {},
   "outputs": [],
   "source": [
    "review14 = '''\n",
    "4 Stars. I came with four other people. Upon arriving we were told that it would be a 10-15minute wait before we would get seated. That wait turned out to be 30-40minutes. Eventually we got seated and ordered, but it took around another 30 minutes before our food came out. Good thing there was complimentary bread because we were starving. The bread was amazing, and the olive oil and balsamic vinegar pairing made it even better, especially that balsamic vinegar. I ordered the Gnocchi Alla Toscana. It was basically gnocchi in glorified pizza sauce. While the sauce wasn't particularly special, it was still tasty. The real star was the gnocchi. Despite the weight of it, the gnocchi was still so fluffy and soft. I'd order it again, but probably with a different sauce. To make up for the long wait, the owner gave us a slice of tiramisu. The tiramisu was great. The cake was very soft, but I wished there was a stronger coffee flavor.\n",
    "'''\n",
    "sia.polarity_scores(review14)\n",
    "#I agree with VADER's scores. The commenter is not happ about wait time but was compensated with good food."
   ]
  },
  {
   "cell_type": "code",
   "execution_count": null,
   "id": "0ac0470a-64e7-48a8-96d1-8ffbd45873d2",
   "metadata": {},
   "outputs": [],
   "source": [
    "review15 = '''\n",
    "1 Star. Terrible terrible terrible experience!!! We live around this restaurant and the food is great but this is the third time we have placed an order for pickup or delivery and after 1 hour of waiting...they cancel. No update, and then they shut off their phone when they get busy. I get it, you're busy. Why don't you actually provide customer service and let people who pay for your food know not to wait. We order a lot of food each time we come here, but anyone who thinks they are reliable is mistaken. Provide better communication to your customers. It's that simple.\n",
    "'''\n",
    "sia.polarity_scores(review15)\n",
    "#This customer is angry. Fuming. VADER does not sense this emotion from the provided comment."
   ]
  },
  {
   "cell_type": "markdown",
   "id": "d9d79e34-a4cc-4454-bb98-fa7e33700053",
   "metadata": {},
   "source": [
    "Movie time"
   ]
  },
  {
   "cell_type": "code",
   "execution_count": null,
   "id": "048253ba-500f-4532-becc-7661c771b094",
   "metadata": {},
   "outputs": [],
   "source": [
    "from pathlib import Path  \n",
    "import glob"
   ]
  },
  {
   "cell_type": "code",
   "execution_count": null,
   "id": "c7fc0e78-e6c7-49c3-956e-7431b3641f90",
   "metadata": {},
   "outputs": [],
   "source": [
    "comedy1 = '''\n",
    "The movie is not as funny as it could have been, but still gave me a good laugh. The cast is spectacular, and the acting is very good. Highly recommend it for ages 8+ for there are a couple scenes that show kidnapping, blowing stuff up, shooting.\n",
    "'''"
   ]
  },
  {
   "cell_type": "code",
   "execution_count": null,
   "id": "2c602642-1692-4027-ba71-a92ffa4476e7",
   "metadata": {},
   "outputs": [],
   "source": [
    "comedy2 = '''\n",
    "The morales in the film are surprisingly deep, talking about many things such as fate and free will, identity, entitlement, and nature versus nurture. The animation was amazing for 2010, but viewing this film nine years after its release, the animation style sticks to me as unique and as memorably as any animated film I watched in 2019. Truly, I’d wager this is the best dreamworks film to ever be released, and I highly recommend watching it for everything I had mentioned above and more.\n",
    "'''"
   ]
  },
  {
   "cell_type": "code",
   "execution_count": null,
   "id": "cd94adc1-9207-4d0a-aa3e-c2cd2efd766d",
   "metadata": {},
   "outputs": [],
   "source": [
    "comedy3 = '''\n",
    "My kids and I love it, great quotable material which is key to winning us over. Its not a terribly cheesy film like Bee Movie but more of a \"not your typical hero\" type that makes it more memorable and lasting. Just because good circumstances puts in better places doesn't mean we turn out to be good people as the reverse is true too.\n",
    "'''"
   ]
  },
  {
   "cell_type": "code",
   "execution_count": null,
   "id": "7aa92b72-9ae2-4801-8408-0dd219f9009a",
   "metadata": {},
   "outputs": [],
   "source": [
    "comedy4 = '''\n",
    "The animation is starting to look dated I felt and the main story moves a bit slow at points but the 3D is still impressive and the humour is pretty smart.  I was struggling to remain interested in the first half of the film as many characters developed slowly but it certainly picks up at the halfway point once Titan arrives.  If you're a 3D aficionado, this is a must have purchase!\n",
    "'''"
   ]
  },
  {
   "cell_type": "code",
   "execution_count": null,
   "id": "24718176-f519-4e61-a42b-2eeb91376243",
   "metadata": {},
   "outputs": [],
   "source": [
    "comedy5 = '''\n",
    "This movie is a gross exaggeration of the super hero tropes, even starting with them literally talking about how they've literally done the whole kidnap, defeat and rescue so many times, they're inadvertently repeating themselves. There is a load of deeper commentaries buried in this movie, but mostly you're going to enjoy the funny banter and antics between whatever combination of characters on screen. A good movie to turn off your brain for a little bit, will watch again after its been long enough.\n",
    "'''"
   ]
  },
  {
   "cell_type": "code",
   "execution_count": null,
   "id": "0455c2cd-365d-479d-9cc4-a90d55986633",
   "metadata": {},
   "outputs": [],
   "source": [
    "drama1 = '''\n",
    "Review menu icon Profile image Andrew Lee 9 months ago This movie is amazingly beautiful the tone and the story are completely perfect in every way. I have seen this move tons of times and every time it's simply perfect The fact that she wrote two sequels to this which ties up the who story line is so good. I recommend watching the move then reading the two sequels as they will never put them on film and its worth it just to see the life she ends up living and it has the perfect ending in book three.\n",
    "'''"
   ]
  },
  {
   "cell_type": "code",
   "execution_count": null,
   "id": "4c65f501-4e43-422f-bf92-a309110edbb4",
   "metadata": {},
   "outputs": [],
   "source": [
    "drama2 = '''\n",
    "If one sees this movie through a realistic eye then probably it could be realized that this film has the most sensible ending which most people seem to protest against. To me the approach of the film was challenging but never did it encourage people similar to Will Traynor to take the same decision. Most people like Will do not share the same mindset, experience, environment (and sarcasm ) after all... so it's quite safe to say that this film,  instead of featuring a universal community's actions or decisions, is based on a heartwarming and a unconventional love story of two people coming from opposite directions of life and merging beautifully into one.\n",
    "'''"
   ]
  },
  {
   "cell_type": "code",
   "execution_count": null,
   "id": "166b19b2-f0fe-4218-a069-3749458ced00",
   "metadata": {},
   "outputs": [],
   "source": [
    "drama3 = '''\n",
    "This movie is not only about letting go even the most beloved people but also,it teaches and inspires everyone to live life to the fullest. All the efforts of Louisa only to change the mind of Will,their selfless and boundless love ,and concern for each other;everything was so real till the end. And the moment that tears your heart apart is when Will tells Lou that he is not going to change his decision.\n",
    "'''"
   ]
  },
  {
   "cell_type": "code",
   "execution_count": null,
   "id": "3f324350-783e-4cb5-b070-42b93a736ec2",
   "metadata": {},
   "outputs": [],
   "source": [
    "drama4 = '''\n",
    "The emotion that is played with the 2 characters is undeniably beautiful. Everyone will have their mix feelings about how it should've ended. In my opinion, this was a man who yes had everything he could ever long for BUT life/death is not an easy decision to make.\n",
    "'''"
   ]
  },
  {
   "cell_type": "code",
   "execution_count": null,
   "id": "8ef4ca2a-0042-4e0f-9a51-a0864a2e6b3a",
   "metadata": {},
   "outputs": [],
   "source": [
    "drama5 = '''\n",
    "Extremely well acted in my opinion, very thought provoking and extremely sad. There'll be some tough lads reaching for the tissues on this one. They could have had a lovely life together, but the poor lad couldn't face it, and despite the fact that I would have moved mountains to change his decision, who am I to tell him what to do.\n",
    "'''"
   ]
  },
  {
   "cell_type": "code",
   "execution_count": null,
   "id": "de938c9c-d108-43ee-92ca-3a94bca8cee4",
   "metadata": {},
   "outputs": [],
   "source": [
    "reviewlist = [comedy1, comedy2, comedy3, comedy4, comedy5, drama1, drama2, drama3, drama4, drama5]"
   ]
  },
  {
   "cell_type": "code",
   "execution_count": null,
   "id": "505d1438-9931-43ba-b254-361e0a228973",
   "metadata": {
    "tags": []
   },
   "outputs": [],
   "source": [
    "[w for w in word_tokenize(reviewlist[0].lower()) if w not in myStopWords]"
   ]
  },
  {
   "cell_type": "code",
   "execution_count": null,
   "id": "a2a3af7b-444c-400b-bfa9-0f70f2779a33",
   "metadata": {},
   "outputs": [],
   "source": [
    "from nltk.stem.porter import PorterStemmer"
   ]
  },
  {
   "cell_type": "code",
   "execution_count": null,
   "id": "40ce4009-9f19-461e-b179-4d1d7ce8a85a",
   "metadata": {},
   "outputs": [],
   "source": [
    "p_stemmer = PorterStemmer()"
   ]
  },
  {
   "cell_type": "code",
   "execution_count": null,
   "id": "e7b3f993-22a5-469f-b385-b452683a4f80",
   "metadata": {},
   "outputs": [],
   "source": [
    "for i in reviewlist:\n",
    "    reviewlist.append([p_stemmer.stem(w) for w in i])"
   ]
  },
  {
   "cell_type": "code",
   "execution_count": null,
   "id": "446de401-b2b1-4989-beb6-ae2151b229ba",
   "metadata": {},
   "outputs": [],
   "source": [
    "!pip install gensim"
   ]
  },
  {
   "cell_type": "code",
   "execution_count": null,
   "id": "97182377-97cb-43d8-93ed-7b0520669b2b",
   "metadata": {},
   "outputs": [],
   "source": [
    "from gensim import corpora, models\n",
    "import gensim"
   ]
  },
  {
   "cell_type": "code",
   "execution_count": null,
   "id": "63c0dd26-85a1-4a9e-9c1b-8330a3698b1c",
   "metadata": {},
   "outputs": [],
   "source": [
    "dictionary = corpora.Dictionary('reviewlist')"
   ]
  },
  {
   "cell_type": "code",
   "execution_count": null,
   "id": "8af50359-1789-44aa-9f27-2071fcf5074f",
   "metadata": {},
   "outputs": [],
   "source": [
    "corpus = [dictionary.doc2bow(text) for text in reviewlist]"
   ]
  },
  {
   "cell_type": "code",
   "execution_count": null,
   "id": "050f9e12-818e-44b1-ad0c-75bd0cfec872",
   "metadata": {},
   "outputs": [],
   "source": [
    "ldamodel = gensim.models.ldamodel.LdaModel(corpus, \n",
    "                                           num_topics=2, \n",
    "                                           id2word = dictionary, \n",
    "                                           passes=20)"
   ]
  },
  {
   "cell_type": "code",
   "execution_count": null,
   "id": "40e26398-7184-406b-8c1c-b100ff487edf",
   "metadata": {},
   "outputs": [],
   "source": [
    "#It seems that the reviews for the comedy movie are not so heavy on comedic values, while the drama reviews are generally on the same topic (of the drama)."
   ]
  },
  {
   "cell_type": "code",
   "execution_count": null,
   "id": "e49f4b25-0abf-4152-afd2-79009ea6d435",
   "metadata": {},
   "outputs": [],
   "source": []
  }
 ],
 "metadata": {
  "kernelspec": {
   "display_name": "Python 3 (ipykernel)",
   "language": "python",
   "name": "python3"
  },
  "language_info": {
   "codemirror_mode": {
    "name": "ipython",
    "version": 3
   },
   "file_extension": ".py",
   "mimetype": "text/x-python",
   "name": "python",
   "nbconvert_exporter": "python",
   "pygments_lexer": "ipython3",
   "version": "3.9.6"
  }
 },
 "nbformat": 4,
 "nbformat_minor": 5
}
